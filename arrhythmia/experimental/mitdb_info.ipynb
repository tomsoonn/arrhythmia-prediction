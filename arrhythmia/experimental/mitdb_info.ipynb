{
 "cells": [
  {
   "cell_type": "code",
   "execution_count": 1,
   "metadata": {},
   "outputs": [],
   "source": [
    "import notebook_import\n",
    "from arrhythmia.experimental.mitdb import get_records, ds1, ds2\n",
    "\n",
    "\n",
    "rs1 = get_records(ds1)\n",
    "rs2 = get_records(ds2)\n",
    "symbols1 = [symbol for _, _, symbol in rs1]\n",
    "symbols2 = [symbol for _, _, symbol in rs2]"
   ]
  },
  {
   "cell_type": "code",
   "execution_count": 2,
   "metadata": {},
   "outputs": [
    {
     "name": "stdout",
     "output_type": "stream",
     "text": [
      "Statistics for data set 1:\n",
      "===========================\n",
      "Symbol | Beats | Percentage\n",
      "   F      415       0.81    \n",
      "   N     45834     89.83    \n",
      "   Q       8        0.02    \n",
      " SVEB     976       1.91    \n",
      "  VEB    3788       7.42    \n",
      "---------------------------\n",
      "Total: 51021 beats\n",
      "===========================\n",
      "\n",
      "Statistics for data set 2:\n",
      "===========================\n",
      "Symbol | Beats | Percentage\n",
      "   F      749       1.48    \n",
      "   N     44684     88.13    \n",
      "   Q       5        0.01    \n",
      " SVEB    2078       4.10    \n",
      "  VEB    3185       6.28    \n",
      "---------------------------\n",
      "Total: 50701 beats\n",
      "===========================\n"
     ]
    }
   ],
   "source": [
    "def count_symbols(symbols):\n",
    "    count = dict()\n",
    "    for r_symbols in symbols:\n",
    "        for symbol in r_symbols:\n",
    "            if symbol.symbol in count:\n",
    "                count[symbol.symbol] += 1\n",
    "            else:\n",
    "                count[symbol.symbol] = 1\n",
    "    return count\n",
    "    \n",
    "def print_statistics(symbols):\n",
    "    print(27 * '=')\n",
    "    counts = count_symbols(symbols)\n",
    "    total = sum(counts.values())\n",
    "    print('Symbol | Beats | Percentage')\n",
    "    for symbol, number in sorted(counts.items()):\n",
    "        print('{:^7} {:^7} {:^12.2f}'.format(symbol, number, number/total*100))\n",
    "    print(27 * '-')\n",
    "    print(\"Total: {} beats\".format(total))\n",
    "    print(27 * '=')\n",
    "        \n",
    "print(\"Statistics for data set 1:\")\n",
    "print_statistics(symbols1)\n",
    "print()\n",
    "print(\"Statistics for data set 2:\")\n",
    "print_statistics(symbols2)"
   ]
  }
 ],
 "metadata": {
  "kernelspec": {
   "display_name": "Python 3",
   "language": "python",
   "name": "python3"
  },
  "language_info": {
   "codemirror_mode": {
    "name": "ipython",
    "version": 3
   },
   "file_extension": ".py",
   "mimetype": "text/x-python",
   "name": "python",
   "nbconvert_exporter": "python",
   "pygments_lexer": "ipython3",
   "version": "3.6.5"
  }
 },
 "nbformat": 4,
 "nbformat_minor": 2
}
